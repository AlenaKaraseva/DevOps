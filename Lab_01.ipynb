{
 "cells": [
  {
   "cell_type": "code",
   "execution_count": 8,
   "id": "21bf6267-8dda-41b3-bd19-139ae3bb71e6",
   "metadata": {
    "tags": []
   },
   "outputs": [],
   "source": [
    "import requests\n",
    "from bs4 import BeautifulSoup\n",
    "import datetime\n",
    "import time\n",
    "import re"
   ]
  },
  {
   "cell_type": "code",
   "execution_count": 11,
   "id": "4b40c4b0-b1ef-42b1-a2ef-c551732017b0",
   "metadata": {
    "tags": []
   },
   "outputs": [],
   "source": [
    "def title_f(item):\n",
    "    return '\\n'.join(list(i.strip() for i in item.find('span', re.compile(\"title\")).strings))\n",
    "\n",
    "def lid_f(item):\n",
    "    return '\\n'.join(list(i.strip() for i in item.find('span', re.compile(\"lid\")).strings))\n",
    "\n",
    "def date_section_f(item):\n",
    "    s_dt = item.find('span', re.compile('date')).find('span').text.split(', ') # s_dt for section and datetime\n",
    "    s_dt_type = []\n",
    "    for i in s_dt:\n",
    "        if any(map(str.isdigit, i)) and ':' in i:\n",
    "            s_dt_type.append('t') # time\n",
    "        elif any(map(str.isdigit, i)) and set(i.split()) & months != set():\n",
    "            s_dt_type.append('d') # day\n",
    "        else:\n",
    "            s_dt_type.append('s') # section\n",
    "    if len(s_dt) == 2:\n",
    "        date = datetime.datetime.strptime(datetime.date.today().isoformat() + s_dt[s_dt_type.index('t')], '%Y-%m-%d%H:%M')\n",
    "    elif len(s_dt) == 3:\n",
    "        day = s_dt[s_dt_type.index('d')]\n",
    "        for old, new in [('янв', '01'), ('фев', '02'), ('мар','03')]:\n",
    "            day = day.replace(old, new)\n",
    "        date = datetime.datetime.strptime(day + ' 2023 ' + s_dt[s_dt_type.index('t')], '%d %m %Y %H:%M')\n",
    "    else:\n",
    "        date = 'unk'\n",
    "    section = s_dt[s_dt_type.index('s')]\n",
    "    return date, section\n",
    "\n",
    "def text_f(soup_item):\n",
    "    item_text = soup_item.body.find_all('p')\n",
    "    text = ''\n",
    "    for p in item_text:\n",
    "        abstract = p.text.replace('\\n', ' ').strip().replace('\\xa0', ' ').replace('  ', '') + '\\n'\n",
    "        text += abstract\n",
    "    return text\n",
    "\n",
    "def id_f(item):\n",
    "    return item.get('id')\n",
    "\n",
    "def news_feed_f(soup):\n",
    "    news_list = soup.body.find_all('a', 'news-feed__item chrome js-yandex-counter')\n",
    "    for item in news_list:\n",
    "        title = title_f(item)\n",
    "        date, section = date_section_f(item)\n",
    "        resp_item = requests.get(item.get('href'))\n",
    "        soup_item = BeautifulSoup(resp_item.content, 'html.parser')\n",
    "        text = text_f(soup_item)\n",
    "        id = id_f(item)[12:]\n",
    "        news_dict[id] = {'title': title, 'date': date, 'section': section, 'text': text}\n",
    "\n",
    "def issue_f(href, spec_date):\n",
    "    resp_issue = requests.get(href)\n",
    "    soup_issue = BeautifulSoup(resp_issue.content, 'html.parser')\n",
    "    news_list_issue = soup_issue.body.find_all('a', re.compile('^newspaper-page__news'))\n",
    "    for item in news_list_issue:\n",
    "        title = lid_f(item)\n",
    "        resp_item = requests.get(item.get('href'))\n",
    "        soup_item = BeautifulSoup(resp_item.content, 'html.parser')\n",
    "        date = datetime.datetime.strptime(soup_item.body.find('span', 'article__header__date').get('content')[:16], '%Y-%m-%dT%H:%M')\n",
    "        section = soup_item.body.find('div', re.compile('^rbcslider__slide')).get('data-category')\n",
    "        id = soup_item.body.find('div', re.compile('^rbcslider__slide')).get('data-id')\n",
    "        text = text_f(soup_item)\n",
    "        news_dict[id] = {'title': title, 'date': date, 'section': section, 'text': text}\n",
    "    if date > spec_date:\n",
    "        prev_issue_href = soup_issue.body.find('a', re.compile('link_prev')).get('href')\n",
    "        issue_f(prev_issue_href, spec_date)\n",
    "    else:\n",
    "        pass"
   ]
  },
  {
   "cell_type": "code",
   "execution_count": null,
   "id": "fdc706d0-3ff1-440d-a939-f499e5f6a928",
   "metadata": {},
   "outputs": [],
   "source": [
    "# news_dict = {}"
   ]
  },
  {
   "cell_type": "code",
   "execution_count": 14,
   "id": "158e875b-cee8-4c92-b9cb-d3a03a84c510",
   "metadata": {
    "tags": []
   },
   "outputs": [
    {
     "name": "stdout",
     "output_type": "stream",
     "text": [
      "news_feed is parsed, time:  2023-03-03 12:47:49.828629\n",
      "issues are parsed, time:  2023-03-03 12:48:47.141507\n",
      "news_feed is parsed, time:  2023-03-03 13:18:54.916429\n",
      "news_feed is parsed, time:  2023-03-03 13:49:04.007670\n",
      "news_feed is parsed, time:  2023-03-03 14:19:13.108637\n",
      "news_feed is parsed, time:  2023-03-03 14:49:22.035875\n"
     ]
    }
   ],
   "source": [
    "page = 'https://www.rbc.ru/newspaper/'\n",
    "months = {'янв', 'фев', 'мар'}\n",
    "spec_date = datetime.datetime(2022, 12, 31, 23, 59)\n",
    "   \n",
    "resp = requests.get(page)\n",
    "soup = BeautifulSoup(resp.content, 'html.parser')\n",
    "\n",
    "# лента новостей текущая\n",
    "news_feed_f(soup)\n",
    "print('news_feed is parsed, time: ', datetime.datetime.now())\n",
    "\n",
    "# свежий номер и все предыдущие номера, включая spec_date\n",
    "issue = soup.body.find('a', 'header__project__menu__link')\n",
    "issue_href = issue.get('href')\n",
    "issue_f(issue_href, spec_date)\n",
    "print('issues are parsed, time: ', datetime.datetime.now())\n",
    "\n",
    "# лента новостей обновленная\n",
    "for i in range(4):\n",
    "    time.sleep(60 * 30)\n",
    "    resp = requests.get(page)\n",
    "    soup = BeautifulSoup(resp.content, 'html.parser')\n",
    "    news_feed_f(soup)\n",
    "    print('news_feed is parsed, time: ', datetime.datetime.now())\n"
   ]
  },
  {
   "cell_type": "code",
   "execution_count": 15,
   "id": "7f423569-f97f-434d-ba97-dbb6661c8ee6",
   "metadata": {
    "tags": []
   },
   "outputs": [
    {
     "data": {
      "text/plain": [
       "265"
      ]
     },
     "execution_count": 15,
     "metadata": {},
     "output_type": "execute_result"
    }
   ],
   "source": [
    "len(news_dict)"
   ]
  },
  {
   "cell_type": "code",
   "execution_count": 17,
   "id": "693917d3-da4c-49d3-947b-e292a59cc5ee",
   "metadata": {
    "tags": []
   },
   "outputs": [],
   "source": [
    "import pandas as pd\n",
    "import os\n",
    "\n",
    "fieldnames = ['id', 'title', 'date', 'section', 'text']\n",
    "df = pd.DataFrame.from_dict(news_dict, orient='index')\n",
    "\n",
    "df.to_csv('lab01.csv', encoding='utf-8-sig')"
   ]
  },
  {
   "cell_type": "code",
   "execution_count": 31,
   "id": "46f9c461-069a-4227-aff3-e520f457d32e",
   "metadata": {
    "tags": []
   },
   "outputs": [],
   "source": [
    "df_1 = pd.read_csv('lab01.csv')"
   ]
  },
  {
   "cell_type": "code",
   "execution_count": 32,
   "id": "33407e16-ba33-4d52-b6b0-c864509ed33c",
   "metadata": {
    "tags": []
   },
   "outputs": [
    {
     "data": {
      "text/html": [
       "<div>\n",
       "<style scoped>\n",
       "    .dataframe tbody tr th:only-of-type {\n",
       "        vertical-align: middle;\n",
       "    }\n",
       "\n",
       "    .dataframe tbody tr th {\n",
       "        vertical-align: top;\n",
       "    }\n",
       "\n",
       "    .dataframe thead th {\n",
       "        text-align: right;\n",
       "    }\n",
       "</style>\n",
       "<table border=\"1\" class=\"dataframe\">\n",
       "  <thead>\n",
       "    <tr style=\"text-align: right;\">\n",
       "      <th></th>\n",
       "      <th>Unnamed: 0</th>\n",
       "      <th>title</th>\n",
       "      <th>date</th>\n",
       "      <th>section</th>\n",
       "      <th>text</th>\n",
       "    </tr>\n",
       "  </thead>\n",
       "  <tbody>\n",
       "    <tr>\n",
       "      <th>0</th>\n",
       "      <td>63fcd0ca9a79479091218d5f</td>\n",
       "      <td>Как устроен индустриальный интернет вещей</td>\n",
       "      <td>2023-02-28 16:43:00</td>\n",
       "      <td>РБК и Ростелеком</td>\n",
       "      <td>Первыми мессенджерами в истории человека были ...</td>\n",
       "    </tr>\n",
       "    <tr>\n",
       "      <th>1</th>\n",
       "      <td>currencycbeur</td>\n",
       "      <td>Курс евро на 1 марта\\nEUR ЦБ: 79,51 (-0,11)</td>\n",
       "      <td>2023-02-28 16:08:00</td>\n",
       "      <td>Инвестиции</td>\n",
       "      <td>NaN</td>\n",
       "    </tr>\n",
       "    <tr>\n",
       "      <th>2</th>\n",
       "      <td>currencycbusd</td>\n",
       "      <td>Курс доллара на 1 марта\\nUSD ЦБ: 74,89 (-0,54)</td>\n",
       "      <td>2023-02-28 16:08:00</td>\n",
       "      <td>Инвестиции</td>\n",
       "      <td>NaN</td>\n",
       "    </tr>\n",
       "    <tr>\n",
       "      <th>3</th>\n",
       "      <td>63ad93b59a794725346b679c</td>\n",
       "      <td>Из чего на самом деле состоят полуфабрикаты</td>\n",
       "      <td>2023-02-28 12:53:00</td>\n",
       "      <td>РБК и Черкизово</td>\n",
       "      <td>NaN</td>\n",
       "    </tr>\n",
       "    <tr>\n",
       "      <th>4</th>\n",
       "      <td>63fc655f9a79475c41070cdd</td>\n",
       "      <td>От сигнальных огней до мессенджеров: как разви...</td>\n",
       "      <td>2023-02-28 12:32:00</td>\n",
       "      <td>РБК и Ростелеком</td>\n",
       "      <td>Первыми мессенджерами в истории человека были ...</td>\n",
       "    </tr>\n",
       "    <tr>\n",
       "      <th>...</th>\n",
       "      <td>...</td>\n",
       "      <td>...</td>\n",
       "      <td>...</td>\n",
       "      <td>...</td>\n",
       "      <td>...</td>\n",
       "    </tr>\n",
       "    <tr>\n",
       "      <th>260</th>\n",
       "      <td>64010c9a9a79478e944069b5</td>\n",
       "      <td>В США задержали двух американцев за передачу Р...</td>\n",
       "      <td>2023-03-02 23:58:00</td>\n",
       "      <td>Политика</td>\n",
       "      <td>Два гражданина США были задержаны в Канзас-Сит...</td>\n",
       "    </tr>\n",
       "    <tr>\n",
       "      <th>261</th>\n",
       "      <td>6400f4d39a79478a7e1e70f5</td>\n",
       "      <td>В СДПГ отказались исключить Шрёдера за связи с...</td>\n",
       "      <td>2023-03-02 23:54:00</td>\n",
       "      <td>Политика</td>\n",
       "      <td>Арбитражная комиссия второй инстанции партии С...</td>\n",
       "    </tr>\n",
       "    <tr>\n",
       "      <th>262</th>\n",
       "      <td>640103e19a79478cddc83b84</td>\n",
       "      <td>Австрия назвала нормальной проверку США «Райфф...</td>\n",
       "      <td>2023-03-02 23:38:00</td>\n",
       "      <td>Финансы</td>\n",
       "      <td>Министерство финансов Австрии не увидело повод...</td>\n",
       "    </tr>\n",
       "    <tr>\n",
       "      <th>263</th>\n",
       "      <td>640102b79a79478c6eca517c</td>\n",
       "      <td>Машина Росгвардии подорвалась на мине в Брянск...</td>\n",
       "      <td>2023-03-02 23:18:00</td>\n",
       "      <td>Политика</td>\n",
       "      <td>В Брянской области автомобиль Росгвардии подор...</td>\n",
       "    </tr>\n",
       "    <tr>\n",
       "      <th>264</th>\n",
       "      <td>6400fa319a79478bf2c54d95</td>\n",
       "      <td>Пентагон опроверг передачу Киеву разведданных ...</td>\n",
       "      <td>2023-03-02 23:13:00</td>\n",
       "      <td>Политика</td>\n",
       "      <td>США не передают Украине разведывательные данны...</td>\n",
       "    </tr>\n",
       "  </tbody>\n",
       "</table>\n",
       "<p>265 rows × 5 columns</p>\n",
       "</div>"
      ],
      "text/plain": [
       "                   Unnamed: 0  \\\n",
       "0    63fcd0ca9a79479091218d5f   \n",
       "1               currencycbeur   \n",
       "2               currencycbusd   \n",
       "3    63ad93b59a794725346b679c   \n",
       "4    63fc655f9a79475c41070cdd   \n",
       "..                        ...   \n",
       "260  64010c9a9a79478e944069b5   \n",
       "261  6400f4d39a79478a7e1e70f5   \n",
       "262  640103e19a79478cddc83b84   \n",
       "263  640102b79a79478c6eca517c   \n",
       "264  6400fa319a79478bf2c54d95   \n",
       "\n",
       "                                                 title                 date  \\\n",
       "0            Как устроен индустриальный интернет вещей  2023-02-28 16:43:00   \n",
       "1          Курс евро на 1 марта\\nEUR ЦБ: 79,51 (-0,11)  2023-02-28 16:08:00   \n",
       "2       Курс доллара на 1 марта\\nUSD ЦБ: 74,89 (-0,54)  2023-02-28 16:08:00   \n",
       "3          Из чего на самом деле состоят полуфабрикаты  2023-02-28 12:53:00   \n",
       "4    От сигнальных огней до мессенджеров: как разви...  2023-02-28 12:32:00   \n",
       "..                                                 ...                  ...   \n",
       "260  В США задержали двух американцев за передачу Р...  2023-03-02 23:58:00   \n",
       "261  В СДПГ отказались исключить Шрёдера за связи с...  2023-03-02 23:54:00   \n",
       "262  Австрия назвала нормальной проверку США «Райфф...  2023-03-02 23:38:00   \n",
       "263  Машина Росгвардии подорвалась на мине в Брянск...  2023-03-02 23:18:00   \n",
       "264  Пентагон опроверг передачу Киеву разведданных ...  2023-03-02 23:13:00   \n",
       "\n",
       "              section                                               text  \n",
       "0    РБК и Ростелеком  Первыми мессенджерами в истории человека были ...  \n",
       "1          Инвестиции                                                NaN  \n",
       "2          Инвестиции                                                NaN  \n",
       "3     РБК и Черкизово                                                NaN  \n",
       "4    РБК и Ростелеком  Первыми мессенджерами в истории человека были ...  \n",
       "..                ...                                                ...  \n",
       "260          Политика  Два гражданина США были задержаны в Канзас-Сит...  \n",
       "261          Политика  Арбитражная комиссия второй инстанции партии С...  \n",
       "262           Финансы  Министерство финансов Австрии не увидело повод...  \n",
       "263          Политика  В Брянской области автомобиль Росгвардии подор...  \n",
       "264          Политика  США не передают Украине разведывательные данны...  \n",
       "\n",
       "[265 rows x 5 columns]"
      ]
     },
     "execution_count": 32,
     "metadata": {},
     "output_type": "execute_result"
    }
   ],
   "source": [
    "df_1"
   ]
  },
  {
   "cell_type": "code",
   "execution_count": null,
   "id": "0a0a262e-1fca-4447-8c93-3ab8d2f8f40c",
   "metadata": {},
   "outputs": [],
   "source": []
  }
 ],
 "metadata": {
  "kernelspec": {
   "display_name": "Python 3 (ipykernel)",
   "language": "python",
   "name": "python3"
  },
  "language_info": {
   "codemirror_mode": {
    "name": "ipython",
    "version": 3
   },
   "file_extension": ".py",
   "mimetype": "text/x-python",
   "name": "python",
   "nbconvert_exporter": "python",
   "pygments_lexer": "ipython3",
   "version": "3.10.9"
  }
 },
 "nbformat": 4,
 "nbformat_minor": 5
}
