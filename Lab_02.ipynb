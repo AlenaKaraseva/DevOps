{
 "cells": [
  {
   "cell_type": "code",
   "execution_count": 1,
   "id": "aeb1bf2d-998d-44c0-bc19-deaa5139b38c",
   "metadata": {
    "tags": []
   },
   "outputs": [
    {
     "name": "stdout",
     "output_type": "stream",
     "text": [
      "Collecting pymongo\n",
      "  Downloading pymongo-4.3.3-cp310-cp310-manylinux_2_17_x86_64.manylinux2014_x86_64.whl (492 kB)\n",
      "\u001b[2K     \u001b[90m━━━━━━━━━━━━━━━━━━━━━━━━━━━━━━━━━━━━━━━\u001b[0m \u001b[32m492.9/492.9 kB\u001b[0m \u001b[31m4.8 MB/s\u001b[0m eta \u001b[36m0:00:00\u001b[0ma \u001b[36m0:00:01\u001b[0m\n",
      "\u001b[?25hCollecting dnspython<3.0.0,>=1.16.0\n",
      "  Downloading dnspython-2.3.0-py3-none-any.whl (283 kB)\n",
      "\u001b[2K     \u001b[90m━━━━━━━━━━━━━━━━━━━━━━━━━━━━━━━━━━━━━━\u001b[0m \u001b[32m283.7/283.7 kB\u001b[0m \u001b[31m17.6 MB/s\u001b[0m eta \u001b[36m0:00:00\u001b[0m\n",
      "\u001b[?25hInstalling collected packages: dnspython, pymongo\n",
      "Successfully installed dnspython-2.3.0 pymongo-4.3.3\n"
     ]
    }
   ],
   "source": [
    "!pip install pymongo"
   ]
  },
  {
   "cell_type": "code",
   "execution_count": 23,
   "id": "356706ce-1591-46c4-88da-61efebd52dbb",
   "metadata": {
    "tags": []
   },
   "outputs": [
    {
     "name": "stdout",
     "output_type": "stream",
     "text": [
      "Collecting nltk\n",
      "  Downloading nltk-3.8.1-py3-none-any.whl (1.5 MB)\n",
      "\u001b[2K     \u001b[90m━━━━━━━━━━━━━━━━━━━━━━━━━━━━━━━━━━━━━━━━\u001b[0m \u001b[32m1.5/1.5 MB\u001b[0m \u001b[31m6.7 MB/s\u001b[0m eta \u001b[36m0:00:00\u001b[0m00:01\u001b[0m00:01\u001b[0m\n",
      "\u001b[?25hRequirement already satisfied: tqdm in /opt/conda/lib/python3.10/site-packages (from nltk) (4.64.1)\n",
      "Collecting regex>=2021.8.3\n",
      "  Downloading regex-2023.3.23-cp310-cp310-manylinux_2_17_x86_64.manylinux2014_x86_64.whl (769 kB)\n",
      "\u001b[2K     \u001b[90m━━━━━━━━━━━━━━━━━━━━━━━━━━━━━━━━━━━━━━\u001b[0m \u001b[32m769.6/769.6 kB\u001b[0m \u001b[31m56.5 MB/s\u001b[0m eta \u001b[36m0:00:00\u001b[0m\n",
      "\u001b[?25hRequirement already satisfied: joblib in /opt/conda/lib/python3.10/site-packages (from nltk) (1.2.0)\n",
      "Requirement already satisfied: click in /opt/conda/lib/python3.10/site-packages (from nltk) (8.1.3)\n",
      "Installing collected packages: regex, nltk\n",
      "Successfully installed nltk-3.8.1 regex-2023.3.23\n"
     ]
    }
   ],
   "source": [
    "!pip install nltk"
   ]
  },
  {
   "cell_type": "code",
   "execution_count": 1,
   "id": "aac2ddd7-5136-44ba-a628-5902df9fdd2c",
   "metadata": {
    "tags": []
   },
   "outputs": [],
   "source": [
    "import pymongo"
   ]
  },
  {
   "cell_type": "code",
   "execution_count": 3,
   "id": "8f73b6ca-3589-4140-9e60-b5a1f6b8a15c",
   "metadata": {
    "tags": []
   },
   "outputs": [],
   "source": [
    "client = pymongo.MongoClient('backend:27017')"
   ]
  },
  {
   "cell_type": "code",
   "execution_count": 4,
   "id": "bba54827-28f2-445d-b61b-3d35f3f52371",
   "metadata": {
    "tags": []
   },
   "outputs": [],
   "source": [
    "db = client['database']"
   ]
  },
  {
   "cell_type": "code",
   "execution_count": 5,
   "id": "9919ee5b-a480-43cc-9695-b6ff632e756f",
   "metadata": {
    "tags": []
   },
   "outputs": [],
   "source": [
    "col = db['collection']"
   ]
  },
  {
   "cell_type": "code",
   "execution_count": 6,
   "id": "448048e9-9752-40dd-a256-84c45e4e1caa",
   "metadata": {
    "tags": []
   },
   "outputs": [
    {
     "data": {
      "text/plain": [
       "<pymongo.results.InsertOneResult at 0x7fce3d5ccb80>"
      ]
     },
     "execution_count": 6,
     "metadata": {},
     "output_type": "execute_result"
    }
   ],
   "source": [
    "my_dict = {'name': 'John', 'adress': 'Highway 37'}\n",
    "col.insert_one(my_dict)"
   ]
  },
  {
   "cell_type": "code",
   "execution_count": 7,
   "id": "6855531b-4eb1-453b-a586-3a53ba41c4ef",
   "metadata": {
    "tags": []
   },
   "outputs": [
    {
     "data": {
      "text/plain": [
       "<pymongo.results.DeleteResult at 0x7fce3d628580>"
      ]
     },
     "execution_count": 7,
     "metadata": {},
     "output_type": "execute_result"
    }
   ],
   "source": [
    "col.delete_one(my_dict)"
   ]
  },
  {
   "cell_type": "code",
   "execution_count": 117,
   "id": "cdb38a72-23af-4817-8ebf-f647ff5e8540",
   "metadata": {
    "tags": []
   },
   "outputs": [],
   "source": [
    "for x in col.find():\n",
    "    print(x)"
   ]
  },
  {
   "cell_type": "code",
   "execution_count": 118,
   "id": "b3f4003f-11c3-4d97-a9c4-472808a93849",
   "metadata": {
    "tags": []
   },
   "outputs": [],
   "source": [
    "import pandas as pd"
   ]
  },
  {
   "cell_type": "code",
   "execution_count": 119,
   "id": "13d994a3-5647-4171-a820-443845ec382c",
   "metadata": {
    "tags": []
   },
   "outputs": [
    {
     "data": {
      "text/plain": [
       "(265, 5)"
      ]
     },
     "execution_count": 119,
     "metadata": {},
     "output_type": "execute_result"
    }
   ],
   "source": [
    "data = pd.read_csv('lab01.csv')\n",
    "data.shape"
   ]
  },
  {
   "cell_type": "code",
   "execution_count": 120,
   "id": "00bdd4c2-5dd7-4588-bf20-229f50a3cf4f",
   "metadata": {
    "tags": []
   },
   "outputs": [
    {
     "data": {
      "text/html": [
       "<div>\n",
       "<style scoped>\n",
       "    .dataframe tbody tr th:only-of-type {\n",
       "        vertical-align: middle;\n",
       "    }\n",
       "\n",
       "    .dataframe tbody tr th {\n",
       "        vertical-align: top;\n",
       "    }\n",
       "\n",
       "    .dataframe thead th {\n",
       "        text-align: right;\n",
       "    }\n",
       "</style>\n",
       "<table border=\"1\" class=\"dataframe\">\n",
       "  <thead>\n",
       "    <tr style=\"text-align: right;\">\n",
       "      <th></th>\n",
       "      <th>Unnamed: 0</th>\n",
       "      <th>title</th>\n",
       "      <th>date</th>\n",
       "      <th>section</th>\n",
       "      <th>text</th>\n",
       "    </tr>\n",
       "  </thead>\n",
       "  <tbody>\n",
       "    <tr>\n",
       "      <th>67</th>\n",
       "      <td>63fe73339a7947243a005e1f</td>\n",
       "      <td>МВД Белоруссии задержало в Гомеле 200 человек ...</td>\n",
       "      <td>2023-03-01 01:04:00</td>\n",
       "      <td>Общество</td>\n",
       "      <td>Сотрудники милиции задержали в Гомеле 200 чело...</td>\n",
       "    </tr>\n",
       "    <tr>\n",
       "      <th>19</th>\n",
       "      <td>63fc4d5f9a794750f56abc03</td>\n",
       "      <td>Под землей, по воздуху и под водой: как работа...</td>\n",
       "      <td>2023-03-01 10:37:00</td>\n",
       "      <td>РБК и Ростелеком</td>\n",
       "      <td>Первыми мессенджерами в истории человека были ...</td>\n",
       "    </tr>\n",
       "    <tr>\n",
       "      <th>174</th>\n",
       "      <td>63eb5da89a794701b759621f</td>\n",
       "      <td>ЦБ раскрыл данные об инцидентах при переводе д...</td>\n",
       "      <td>2023-02-14 14:08:00</td>\n",
       "      <td>Финансы</td>\n",
       "      <td>В 2022 году кредитные организации вернули жерт...</td>\n",
       "    </tr>\n",
       "  </tbody>\n",
       "</table>\n",
       "</div>"
      ],
      "text/plain": [
       "                   Unnamed: 0  \\\n",
       "67   63fe73339a7947243a005e1f   \n",
       "19   63fc4d5f9a794750f56abc03   \n",
       "174  63eb5da89a794701b759621f   \n",
       "\n",
       "                                                 title                 date  \\\n",
       "67   МВД Белоруссии задержало в Гомеле 200 человек ...  2023-03-01 01:04:00   \n",
       "19   Под землей, по воздуху и под водой: как работа...  2023-03-01 10:37:00   \n",
       "174  ЦБ раскрыл данные об инцидентах при переводе д...  2023-02-14 14:08:00   \n",
       "\n",
       "              section                                               text  \n",
       "67           Общество  Сотрудники милиции задержали в Гомеле 200 чело...  \n",
       "19   РБК и Ростелеком  Первыми мессенджерами в истории человека были ...  \n",
       "174           Финансы  В 2022 году кредитные организации вернули жерт...  "
      ]
     },
     "execution_count": 120,
     "metadata": {},
     "output_type": "execute_result"
    }
   ],
   "source": [
    "data.sample(3)"
   ]
  },
  {
   "cell_type": "code",
   "execution_count": 124,
   "id": "7518cd57-889a-4ff3-8054-d721ffc41298",
   "metadata": {
    "tags": []
   },
   "outputs": [],
   "source": [
    "data = data.rename(columns={'Unnamed: 0':'news_id'})"
   ]
  },
  {
   "cell_type": "code",
   "execution_count": 125,
   "id": "d4c6ab98-f807-40bf-8a3b-60a79acaf746",
   "metadata": {
    "tags": []
   },
   "outputs": [
    {
     "data": {
      "text/html": [
       "<div>\n",
       "<style scoped>\n",
       "    .dataframe tbody tr th:only-of-type {\n",
       "        vertical-align: middle;\n",
       "    }\n",
       "\n",
       "    .dataframe tbody tr th {\n",
       "        vertical-align: top;\n",
       "    }\n",
       "\n",
       "    .dataframe thead th {\n",
       "        text-align: right;\n",
       "    }\n",
       "</style>\n",
       "<table border=\"1\" class=\"dataframe\">\n",
       "  <thead>\n",
       "    <tr style=\"text-align: right;\">\n",
       "      <th></th>\n",
       "      <th>news_id</th>\n",
       "      <th>title</th>\n",
       "      <th>date</th>\n",
       "      <th>section</th>\n",
       "      <th>text</th>\n",
       "    </tr>\n",
       "  </thead>\n",
       "  <tbody>\n",
       "    <tr>\n",
       "      <th>210</th>\n",
       "      <td>63dbe6d69a79477ac5a41d99</td>\n",
       "      <td>Три вопроса о вступившем в силу эмбарго ЕС на ...</td>\n",
       "      <td>2023-02-04 23:57:00</td>\n",
       "      <td>Бизнес</td>\n",
       "      <td>В воскресенье, 5 февраля, вступило в силу эмба...</td>\n",
       "    </tr>\n",
       "    <tr>\n",
       "      <th>183</th>\n",
       "      <td>63e61f1b9a79470d575bb7a9</td>\n",
       "      <td>Предоставит ли Запад Украине современные истре...</td>\n",
       "      <td>2023-02-11 00:12:00</td>\n",
       "      <td>Политика</td>\n",
       "      <td>Чего потребовал Зеленский\\nВ европейском турне...</td>\n",
       "    </tr>\n",
       "    <tr>\n",
       "      <th>1</th>\n",
       "      <td>currencycbeur</td>\n",
       "      <td>Курс евро на 1 марта\\nEUR ЦБ: 79,51 (-0,11)</td>\n",
       "      <td>2023-02-28 16:08:00</td>\n",
       "      <td>Инвестиции</td>\n",
       "      <td>NaN</td>\n",
       "    </tr>\n",
       "  </tbody>\n",
       "</table>\n",
       "</div>"
      ],
      "text/plain": [
       "                      news_id  \\\n",
       "210  63dbe6d69a79477ac5a41d99   \n",
       "183  63e61f1b9a79470d575bb7a9   \n",
       "1               currencycbeur   \n",
       "\n",
       "                                                 title                 date  \\\n",
       "210  Три вопроса о вступившем в силу эмбарго ЕС на ...  2023-02-04 23:57:00   \n",
       "183  Предоставит ли Запад Украине современные истре...  2023-02-11 00:12:00   \n",
       "1          Курс евро на 1 марта\\nEUR ЦБ: 79,51 (-0,11)  2023-02-28 16:08:00   \n",
       "\n",
       "        section                                               text  \n",
       "210      Бизнес  В воскресенье, 5 февраля, вступило в силу эмба...  \n",
       "183    Политика  Чего потребовал Зеленский\\nВ европейском турне...  \n",
       "1    Инвестиции                                                NaN  "
      ]
     },
     "execution_count": 125,
     "metadata": {},
     "output_type": "execute_result"
    }
   ],
   "source": [
    "data.sample(3)"
   ]
  },
  {
   "cell_type": "code",
   "execution_count": 127,
   "id": "b2b80f14-029f-472a-9798-b8940194a55c",
   "metadata": {
    "tags": []
   },
   "outputs": [],
   "source": [
    "text_columns = ['title', 'text', 'section']\n",
    "datetime_columns = ['date']"
   ]
  },
  {
   "cell_type": "code",
   "execution_count": 128,
   "id": "2bb2e603-7cec-42b2-965e-65bdec1d3fab",
   "metadata": {
    "tags": []
   },
   "outputs": [],
   "source": [
    "from nltk.tokenize import WordPunctTokenizer\n",
    "\n",
    "tokenizer = WordPunctTokenizer()\n",
    "\n",
    "def normalize(text):\n",
    "    tokens = tokenizer.tokenize(str(text).lower())\n",
    "    return \" \".join(tokens)\n",
    "\n",
    "data[text_columns] = data[text_columns].applymap(normalize)\n",
    "data[text_columns] = data[text_columns].applymap(normalize)"
   ]
  },
  {
   "cell_type": "code",
   "execution_count": 129,
   "id": "8a744c4c-3e92-419b-9417-c2e361b2026d",
   "metadata": {
    "tags": []
   },
   "outputs": [
    {
     "data": {
      "text/html": [
       "<div>\n",
       "<style scoped>\n",
       "    .dataframe tbody tr th:only-of-type {\n",
       "        vertical-align: middle;\n",
       "    }\n",
       "\n",
       "    .dataframe tbody tr th {\n",
       "        vertical-align: top;\n",
       "    }\n",
       "\n",
       "    .dataframe thead th {\n",
       "        text-align: right;\n",
       "    }\n",
       "</style>\n",
       "<table border=\"1\" class=\"dataframe\">\n",
       "  <thead>\n",
       "    <tr style=\"text-align: right;\">\n",
       "      <th></th>\n",
       "      <th>news_id</th>\n",
       "      <th>title</th>\n",
       "      <th>date</th>\n",
       "      <th>section</th>\n",
       "      <th>text</th>\n",
       "    </tr>\n",
       "  </thead>\n",
       "  <tbody>\n",
       "    <tr>\n",
       "      <th>86</th>\n",
       "      <td>63fe57539a79471a1d1b6f52</td>\n",
       "      <td>мид заявил об угрозе эскалации палестино - изр...</td>\n",
       "      <td>2023-02-28 23:01:00</td>\n",
       "      <td>политика</td>\n",
       "      <td>напряженная обстановка на западном берегу реки...</td>\n",
       "    </tr>\n",
       "    <tr>\n",
       "      <th>214</th>\n",
       "      <td>63dba0c69a79475b1f927c97</td>\n",
       "      <td>эксперты сервиса « продажи . рф » обратили вни...</td>\n",
       "      <td>2023-02-03 07:05:00</td>\n",
       "      <td>бизнес</td>\n",
       "      <td>российские производители молочной продукции ст...</td>\n",
       "    </tr>\n",
       "    <tr>\n",
       "      <th>197</th>\n",
       "      <td>63e1134a9a794758bbe93eef</td>\n",
       "      <td>минобороны предложило изменить порядок комплек...</td>\n",
       "      <td>2023-02-07 09:27:00</td>\n",
       "      <td>политика</td>\n",
       "      <td>министерство обороны подготовило законопроект ...</td>\n",
       "    </tr>\n",
       "  </tbody>\n",
       "</table>\n",
       "</div>"
      ],
      "text/plain": [
       "                      news_id  \\\n",
       "86   63fe57539a79471a1d1b6f52   \n",
       "214  63dba0c69a79475b1f927c97   \n",
       "197  63e1134a9a794758bbe93eef   \n",
       "\n",
       "                                                 title                 date  \\\n",
       "86   мид заявил об угрозе эскалации палестино - изр...  2023-02-28 23:01:00   \n",
       "214  эксперты сервиса « продажи . рф » обратили вни...  2023-02-03 07:05:00   \n",
       "197  минобороны предложило изменить порядок комплек...  2023-02-07 09:27:00   \n",
       "\n",
       "      section                                               text  \n",
       "86   политика  напряженная обстановка на западном берегу реки...  \n",
       "214    бизнес  российские производители молочной продукции ст...  \n",
       "197  политика  министерство обороны подготовило законопроект ...  "
      ]
     },
     "execution_count": 129,
     "metadata": {},
     "output_type": "execute_result"
    }
   ],
   "source": [
    "data.sample(3)"
   ]
  },
  {
   "cell_type": "code",
   "execution_count": 130,
   "id": "b5c534bc-b77a-4c5c-bef5-a455dafc1273",
   "metadata": {
    "tags": []
   },
   "outputs": [
    {
     "data": {
      "text/plain": [
       "<pymongo.results.InsertManyResult at 0x7fce54722110>"
      ]
     },
     "execution_count": 130,
     "metadata": {},
     "output_type": "execute_result"
    }
   ],
   "source": [
    "col.insert_many(data.to_dict('records'))"
   ]
  }
 ],
 "metadata": {
  "kernelspec": {
   "display_name": "Python 3 (ipykernel)",
   "language": "python",
   "name": "python3"
  },
  "language_info": {
   "codemirror_mode": {
    "name": "ipython",
    "version": 3
   },
   "file_extension": ".py",
   "mimetype": "text/x-python",
   "name": "python",
   "nbconvert_exporter": "python",
   "pygments_lexer": "ipython3",
   "version": "3.10.9"
  }
 },
 "nbformat": 4,
 "nbformat_minor": 5
}
